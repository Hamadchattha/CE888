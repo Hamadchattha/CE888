{
 "cells": [
  {
   "cell_type": "code",
   "execution_count": 1,
   "id": "eac10e67",
   "metadata": {},
   "outputs": [],
   "source": [
    "import pandas as pd"
   ]
  },
  {
   "cell_type": "code",
   "execution_count": 2,
   "id": "cb30ec46",
   "metadata": {},
   "outputs": [
    {
     "name": "stdout",
     "output_type": "stream",
     "text": [
      "      Batch Number Plant Date  Class  Fresh Weight (g)  Head Weight (g)  \\\n",
      "0              402 2020-04-11      3              15.0              NaN   \n",
      "1              402 2020-04-11      4              15.0              NaN   \n",
      "2              402 2020-04-11      1              16.0              NaN   \n",
      "3              402 2020-04-11      3              15.0              NaN   \n",
      "4              402 2020-04-11      3              15.0              NaN   \n",
      "...            ...        ...    ...               ...              ...   \n",
      "4854           738 2020-08-27      4             284.0             12.0   \n",
      "4855           738 2020-08-27      5             199.0              8.0   \n",
      "4856           738 2020-08-27      3             280.0             23.0   \n",
      "4857           738 2020-08-27      4             247.0             10.0   \n",
      "4858           738 2020-08-27      2             183.0             18.0   \n",
      "\n",
      "      Radial Diameter (mm)  Polar Diameter (mm)  Diameter Ratio  Leaves  \\\n",
      "0                      NaN                  NaN             NaN    10.0   \n",
      "1                      NaN                  NaN             NaN    11.0   \n",
      "2                      NaN                  NaN             NaN    12.0   \n",
      "3                      NaN                  NaN             NaN    10.0   \n",
      "4                      NaN                  NaN             NaN    11.0   \n",
      "...                    ...                  ...             ...     ...   \n",
      "4854                  50.0                 55.0        0.909091     NaN   \n",
      "4855                  45.0                 85.0        0.529412     NaN   \n",
      "4856                  60.0                 80.0        0.750000     NaN   \n",
      "4857                  45.0                 80.0        0.562500     NaN   \n",
      "4858                  35.0                102.0        0.343137     NaN   \n",
      "\n",
      "      Density (kg/L)  Leaf Area (cm^2)  Square ID Check Date Flight Date  \\\n",
      "0                NaN             185.0        208 2020-04-30         NaT   \n",
      "1                NaN             156.0        208 2020-04-30         NaT   \n",
      "2                NaN             137.0        208 2020-04-30         NaT   \n",
      "3                NaN             225.0        208 2020-04-30         NaT   \n",
      "4                NaN             157.0        208 2020-04-30         NaT   \n",
      "...              ...               ...        ...        ...         ...   \n",
      "4854             NaN             430.0       1172 2020-10-20         NaT   \n",
      "4855             NaN             358.0       1172 2020-10-20         NaT   \n",
      "4856             NaN             417.0       1172 2020-10-20         NaT   \n",
      "4857             NaN             413.0       1172 2020-10-20         NaT   \n",
      "4858             NaN             316.0       1172 2020-10-20         NaT   \n",
      "\n",
      "     Remove  \n",
      "0       NaN  \n",
      "1       NaN  \n",
      "2       NaN  \n",
      "3       NaN  \n",
      "4       NaN  \n",
      "...     ...  \n",
      "4854    NaN  \n",
      "4855    NaN  \n",
      "4856    NaN  \n",
      "4857    NaN  \n",
      "4858    NaN  \n",
      "\n",
      "[4859 rows x 15 columns]\n"
     ]
    }
   ],
   "source": [
    "df = pd.read_excel ('data.xlsx', sheet_name='plants')\n",
    "print (df)"
   ]
  },
  {
   "cell_type": "code",
   "execution_count": 3,
   "id": "ab668534",
   "metadata": {
    "scrolled": true
   },
   "outputs": [],
   "source": [
    "#!pip install openpyxl"
   ]
  },
  {
   "cell_type": "code",
   "execution_count": 4,
   "id": "19f9b9b8",
   "metadata": {},
   "outputs": [
    {
     "name": "stdout",
     "output_type": "stream",
     "text": [
      "    Batch Number Flight Date\n",
      "0            402  2020-04-30\n",
      "1            408  2020-04-30\n",
      "2            409  2020-04-30\n",
      "3            466  2020-07-01\n",
      "4            467  2020-07-01\n",
      "5            468  2020-07-01\n",
      "6            469  2020-07-06\n",
      "7            471  2020-07-02\n",
      "8            472  2020-07-02\n",
      "9            473  2020-07-02\n",
      "10           474  2020-07-03\n",
      "11           475  2020-07-03\n",
      "12           477  2020-07-03\n",
      "13           478  2020-07-02\n",
      "14           510  2020-07-08\n",
      "15           511  2020-07-15\n",
      "16           514  2020-07-09\n",
      "17           517  2020-07-08\n",
      "18           521  2020-07-08\n",
      "19           534  2020-07-17\n",
      "20           538  2020-07-13\n",
      "21           541  2020-07-13\n",
      "22           542  2020-07-13\n",
      "23           582  2020-07-28\n",
      "24           586  2020-07-28\n",
      "25           587  2020-07-28\n",
      "26           589  2020-07-31\n",
      "27           590  2020-07-31\n",
      "28           596  2020-07-31\n",
      "29           597  2020-07-31\n",
      "30           598  2020-07-31\n",
      "31           607  2020-08-05\n",
      "32           608  2020-08-11\n",
      "33           610  2020-08-05\n",
      "34           611  2020-08-05\n",
      "35           612  2020-08-06\n",
      "36           621  2020-08-12\n",
      "37           622  2020-08-12\n",
      "38           623  2020-08-12\n",
      "39           625  2020-08-13\n",
      "40           627  2020-08-13\n",
      "41           628  2020-08-13\n",
      "42           647  2020-08-26\n",
      "43           649  2020-09-01\n",
      "44           650  2020-08-27\n",
      "45           651  2020-08-27\n",
      "46           689  2020-09-09\n",
      "47           690  2020-09-09\n",
      "48           691  2020-09-10\n",
      "49           693  2020-09-10\n"
     ]
    }
   ],
   "source": [
    "df = pd.read_excel ('data.xlsx', sheet_name='flight dates')\n",
    "print (df)"
   ]
  },
  {
   "cell_type": "code",
   "execution_count": 5,
   "id": "d79d750d",
   "metadata": {},
   "outputs": [
    {
     "name": "stdout",
     "output_type": "stream",
     "text": [
      "         Crop  Column2  Column3           Plant_Date  Column1  Region  \\\n",
      "0           3      NaN      NaN  2020-02-06 00:00:00      NaN     0.0   \n",
      "1           3      NaN      NaN  2020-02-07 00:00:00      NaN     0.0   \n",
      "2           3      NaN      NaN  2020-02-07 00:00:00      NaN     0.0   \n",
      "3           3      NaN      NaN  2020-02-08 00:00:00      NaN     0.0   \n",
      "4           3      NaN      NaN  2020-02-10 00:00:00      NaN     0.0   \n",
      "...       ...      ...      ...                  ...      ...     ...   \n",
      "2368  Ice 309      NaN      NaN                  2,1      NaN   387.0   \n",
      "2369  Ice 309      NaN      NaN                  2,2      NaN   400.0   \n",
      "2370  Ice 309      NaN      NaN                  2,3      NaN   319.0   \n",
      "2371  Ice 309      NaN      NaN                  2,4      NaN   155.0   \n",
      "2372  Ice 309      NaN      NaN                  2,5      NaN   338.0   \n",
      "\n",
      "      Column4 Planting_Batch  Volume_Planted  Planting_Wk  \n",
      "0         NaN            392        198912.0          6.0  \n",
      "1         NaN            503         63840.0          6.0  \n",
      "2         NaN            614        179928.0          6.0  \n",
      "3         NaN            725        200256.0          6.0  \n",
      "4         NaN            770         13944.0          7.0  \n",
      "...       ...            ...             ...          ...  \n",
      "2368      NaN            NaN             NaN         80.0  \n",
      "2369      NaN            NaN             NaN        274.0  \n",
      "2370      NaN            NaN             NaN        224.0  \n",
      "2371      NaN            NaN             NaN        249.0  \n",
      "2372      NaN            NaN             NaN        251.0  \n",
      "\n",
      "[2373 rows x 10 columns]\n"
     ]
    }
   ],
   "source": [
    "df = pd.read_excel ('data.xlsx', sheet_name='planting')\n",
    "print (df)"
   ]
  },
  {
   "cell_type": "code",
   "execution_count": 6,
   "id": "16ef0f3f",
   "metadata": {},
   "outputs": [
    {
     "name": "stdout",
     "output_type": "stream",
     "text": [
      "     Unnamed: 0  Solar Radiation [avg]  Precipitation [sum]  Wind Speed [avg]  \\\n",
      "0    2014-05-14                    159                  0.0               1.4   \n",
      "1    2014-05-15                    280                  0.0               0.6   \n",
      "2    2014-05-16                    186                  3.4               0.8   \n",
      "3    2014-05-17                    221                  0.0               1.0   \n",
      "4    2014-05-18                    255                  0.0               2.1   \n",
      "...         ...                    ...                  ...               ...   \n",
      "2551 2021-05-17                    196                  1.4               2.2   \n",
      "2552 2021-05-17                    173                  2.8               1.8   \n",
      "2553 2021-05-18                    311                  0.0               1.4   \n",
      "2554 2021-05-19                    232                  6.6               1.8   \n",
      "2555 2021-05-20                     44                  0.0               0.5   \n",
      "\n",
      "      Wind Speed [max]  Battery Voltage [last]  Leaf Wetness [time]  \\\n",
      "0                  3.3                    6834                   70   \n",
      "1                  2.3                    6894                  500   \n",
      "2                  2.7                    6874                  375   \n",
      "3                  3.3                    6874                  565   \n",
      "4                  5.5                    6854                  625   \n",
      "...                ...                     ...                  ...   \n",
      "2551               5.5                    7166                    0   \n",
      "2552               5.5                    6864                    0   \n",
      "2553               5.0                    6854                    0   \n",
      "2554               5.5                    6864                    0   \n",
      "2555               2.7                    7158                    0   \n",
      "\n",
      "      Air Temperature [avg]  Air Temperature [max]  Air Temperature [min]  \\\n",
      "0                     14.27                  18.90                   7.19   \n",
      "1                     13.51                  22.06                   3.04   \n",
      "2                     15.65                  24.24                   7.23   \n",
      "3                     17.46                  25.70                   9.93   \n",
      "4                     16.85                  24.62                   8.45   \n",
      "...                     ...                    ...                    ...   \n",
      "2551                  10.51                  14.53                   8.95   \n",
      "2552                  10.80                  14.53                   8.38   \n",
      "2553                  10.29                  17.14                   3.15   \n",
      "2554                  11.39                  16.61                   7.50   \n",
      "2555                   6.35                   9.15                   3.76   \n",
      "\n",
      "      Relative Humidity [avg]  Dew Point [avg]  Dew Point [min]  ET0 [result]  \n",
      "0                       64.95              7.0              5.6           NaN  \n",
      "1                       72.91              7.6              3.0           3.6  \n",
      "2                       74.69             10.5              6.5           2.9  \n",
      "3                       71.42             11.5              8.1           3.6  \n",
      "4                       74.45             11.4              8.3           4.2  \n",
      "...                       ...              ...              ...           ...  \n",
      "2551                    99.86             10.3              8.8           NaN  \n",
      "2552                    99.86             10.6              8.2           NaN  \n",
      "2553                    92.94              8.8              3.0           3.4  \n",
      "2554                    90.32              9.4              5.2           3.0  \n",
      "2555                    99.86              6.2              3.6           NaN  \n",
      "\n",
      "[2556 rows x 14 columns]\n"
     ]
    }
   ],
   "source": [
    "df = pd.read_excel ('data.xlsx', sheet_name='weather')\n",
    "print (df)"
   ]
  },
  {
   "cell_type": "code",
   "execution_count": null,
   "id": "338ac8de",
   "metadata": {},
   "outputs": [],
   "source": []
  }
 ],
 "metadata": {
  "kernelspec": {
   "display_name": "Python 3 (ipykernel)",
   "language": "python",
   "name": "python3"
  },
  "language_info": {
   "codemirror_mode": {
    "name": "ipython",
    "version": 3
   },
   "file_extension": ".py",
   "mimetype": "text/x-python",
   "name": "python",
   "nbconvert_exporter": "python",
   "pygments_lexer": "ipython3",
   "version": "3.9.6"
  }
 },
 "nbformat": 4,
 "nbformat_minor": 5
}
